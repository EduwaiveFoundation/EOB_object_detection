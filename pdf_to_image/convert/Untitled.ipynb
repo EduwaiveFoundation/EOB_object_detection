{
 "cells": [
  {
   "cell_type": "code",
   "execution_count": 19,
   "metadata": {},
   "outputs": [
    {
     "name": "stdout",
     "output_type": "stream",
     "text": [
      "This script has been run 8 times.\n"
     ]
    }
   ],
   "source": [
    "def get_var_value(filename=\"job_id.txt\"):\n",
    "    with open(filename, \"a+\") as f:\n",
    "        f.seek(0)\n",
    "        val = int(f.read() or 0) + 1\n",
    "        f.seek(0)\n",
    "        f.truncate()\n",
    "        f.write(str(val))\n",
    "        return val\n",
    "\n",
    "your_counter = get_var_value()\n",
    "print(\"This script has been run {} times.\".format(your_counter))"
   ]
  },
  {
   "cell_type": "code",
   "execution_count": 4,
   "metadata": {},
   "outputs": [
    {
     "name": "stdout",
     "output_type": "stream",
     "text": [
      "a/d/c/d/e\n"
     ]
    }
   ],
   "source": [
    "path=\"a/d/c/d/e/f\"\n",
    "print path.rsplit(\"/\",1)[0]"
   ]
  },
  {
   "cell_type": "code",
   "execution_count": 16,
   "metadata": {},
   "outputs": [
    {
     "name": "stdout",
     "output_type": "stream",
     "text": [
      "5\n"
     ]
    }
   ],
   "source": [
    "with open(\"job_id.txt\",'r') as f: #open a file in the same folder\n",
    "    a = f.readlines()            #read from file to variable a\n",
    "#use the data read\n",
    "b = int(a[0])                    #get integer at first position\n",
    "b = b+1 \n",
    "print b\n",
    "#increment\n",
    "with open(\"job_id.txt\",'w') as f: #open same file\n",
    "    f.write(str(b)) "
   ]
  },
  {
   "cell_type": "code",
   "execution_count": null,
   "metadata": {},
   "outputs": [],
   "source": [
    "from google.cloud import storage\n",
    "def copy_blob(bucket_name, blob_name, new_bucket_name, new_blob_name):\n",
    "    \"\"\"Copies a blob from one bucket to another with a new name.\"\"\"\n",
    "    storage_client = storage.Client()\n",
    "    source_bucket = storage_client.get_bucket(bucket_name)\n",
    "    source_blob = source_bucket.blob(blob_name)\n",
    "    destination_bucket = storage_client.get_bucket(new_bucket_name)\n",
    "\n",
    "    new_blob = source_bucket.copy_blob(\n",
    "        source_blob, destination_bucket, new_blob_name)\n",
    "    \n",
    "    \n",
    "copy_blob(\"sampleeob\",\"Anthem A/processed_Anthem.10.pdf\",\"sampleeob\",\"processed_pdfs/processed_Anthem.10.pdf\")    "
   ]
  },
  {
   "cell_type": "code",
   "execution_count": null,
   "metadata": {},
   "outputs": [],
   "source": [
    "pdf_name=\"a/b/c/d/e/f/g\"\n",
    "pdf_name=path.split(\"/\",4)[-2]+\".pdf\"\n",
    "print pdf_name"
   ]
  },
  {
   "cell_type": "code",
   "execution_count": 13,
   "metadata": {},
   "outputs": [
    {
     "name": "stdout",
     "output_type": "stream",
     "text": [
      "7\n"
     ]
    }
   ],
   "source": [
    "\n",
    "\n",
    "def fun():\n",
    "    global a\n",
    "    a=7\n",
    "    \n",
    "    \n",
    "global a\n",
    "a=6\n",
    "fun()\n",
    "print a"
   ]
  },
  {
   "cell_type": "code",
   "execution_count": 15,
   "metadata": {},
   "outputs": [
    {
     "name": "stdout",
     "output_type": "stream",
     "text": [
      "['hey']\n"
     ]
    }
   ],
   "source": [
    "a=\"hey\"\n",
    "print [a]\n"
   ]
  }
 ],
 "metadata": {
  "kernelspec": {
   "display_name": "Python 2",
   "language": "python",
   "name": "python2"
  },
  "language_info": {
   "codemirror_mode": {
    "name": "ipython",
    "version": 2
   },
   "file_extension": ".py",
   "mimetype": "text/x-python",
   "name": "python",
   "nbconvert_exporter": "python",
   "pygments_lexer": "ipython2",
   "version": "2.7.12"
  }
 },
 "nbformat": 4,
 "nbformat_minor": 2
}
