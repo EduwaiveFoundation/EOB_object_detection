{
 "cells": [
  {
   "cell_type": "code",
   "execution_count": 1,
   "metadata": {},
   "outputs": [],
   "source": [
    "import import_ipynb\n",
    "class PDFToJPG(object):\n",
    "    \n",
    "    def __init__(self):\n",
    "        self.strategy = None\n",
    "    \n",
    "    @property\n",
    "    def __strategy__(self):\n",
    "        return self.strategy\n",
    "    \n",
    "    @__strategy__.setter\n",
    "    def __strategy__(self, value):\n",
    "        self.strategy = value\n",
    "    \n",
    "    def read(self, *args):\n",
    "        \"\"\"\n",
    "        Use strategy to read and download files\n",
    "        \"\"\"\n",
    "        if self.strategy:\n",
    "            self.strategy.read(*args)\n",
    "            self.strategy.download(*args)\n",
    "        else:\n",
    "            print (\"default read\")\n",
    "    \n",
    "    @staticmethod\n",
    "    def process(*args):\n",
    "        print (\"processing\")\n",
    "    \n",
    "    def export(self, *args):\n",
    "        \"\"\"\n",
    "        Use strategy \"\"\"\n",
    "        if self.strategy:\n",
    "            self.strategy.upload(*args)\n",
    "        else:\n",
    "            print (\"default upload\")"
   ]
  },
  {
   "cell_type": "code",
   "execution_count": null,
   "metadata": {},
   "outputs": [],
   "source": []
  }
 ],
 "metadata": {
  "kernelspec": {
   "display_name": "Python 2",
   "language": "python",
   "name": "python2"
  },
  "language_info": {
   "codemirror_mode": {
    "name": "ipython",
    "version": 2
   },
   "file_extension": ".py",
   "mimetype": "text/x-python",
   "name": "python",
   "nbconvert_exporter": "python",
   "pygments_lexer": "ipython2",
   "version": "2.7.12"
  }
 },
 "nbformat": 4,
 "nbformat_minor": 2
}
