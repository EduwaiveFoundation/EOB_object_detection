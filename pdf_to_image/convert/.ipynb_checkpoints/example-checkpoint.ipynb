{
 "cells": [
  {
   "cell_type": "code",
   "execution_count": 27,
   "metadata": {},
   "outputs": [
    {
     "name": "stdout",
     "output_type": "stream",
     "text": [
      "default read\n",
      "processing\n",
      "default upload\n"
     ]
    },
    {
     "data": {
      "text/plain": [
       "'# Setting strategy to None\\npdf_api.__strategy__ = None\\n\\n# Now executing the pipeline\\npdf_api.read()\\npdf_api.process()\\npdf_api.export()\\n'"
      ]
     },
     "execution_count": 27,
     "metadata": {},
     "output_type": "execute_result"
    }
   ],
   "source": [
    "# EXAMPLE\n",
    "import import_ipynb\n",
    "from HandlerFactory1 import HandlerFactory, GCSHandler\n",
    "from PDFToJPG1 import PDFToJPG\n",
    "\n",
    "#print (globals())\n",
    "input_path=\"gs://sampleeob/Beacon\"\n",
    "output_path=\"gs://sampleeob/unlabelled\"\n",
    "\n",
    "input_key=input_path.split(\"/\",2)[0]\n",
    "output_key=output_path.split(\"/\",2)[0]\n",
    "\n",
    "input_dict={\"gs:\":'GCSHandler',\n",
    "            \"s3:\":'AWSHandler',\n",
    "            \"local\":'LocalHandler'}\n",
    "\n",
    "# Create a GCS Handler from Abstract Handler Factory\n",
    "gs = HandlerFactory.create(input_dict[input_key])\n",
    "\n",
    "# Set the input and output sources\n",
    "gs.__input__ = input_path.split(\"/\",2)[-1]\n",
    "gs.__output__ = output_path.split(\"/\",2)[-1]\n",
    "\n",
    "#print gs.__input__\n",
    "# Creating an instance of PDFToJPG class\n",
    "pdf_api = PDFToJPG()\n",
    "\n",
    "# Using GCS Handler as a strategy to read, download and upload to-and-from GCS.\n",
    "pdf_api.__strategy__ = gs\n",
    "\n",
    "# Now executing the Pipeline\n",
    "pdf_api.read()\n",
    "pdf_api.process()\n",
    "pdf_api.export()\n",
    "\n",
    "\"\"\"# Setting strategy to None\n",
    "pdf_api.__strategy__ = None\n",
    "\n",
    "# Now executing the pipeline\n",
    "pdf_api.read()\n",
    "pdf_api.process()\n",
    "pdf_api.export()\n",
    "\"\"\""
   ]
  },
  {
   "cell_type": "code",
   "execution_count": 24,
   "metadata": {},
   "outputs": [
    {
     "name": "stdout",
     "output_type": "stream",
     "text": [
      "sampleeon/Beacon\n",
      "sampleeob/unlabelled\n"
     ]
    }
   ],
   "source": [
    "input_path=\"gs://sampleeon/Beacon\"\n",
    "output_path=\"gs://sampleeob/unlabelled\"\n",
    "\n",
    "input_key=input_path.split(\"/\",2)[-1]\n",
    "output_key=output_path.split(\"/\",2)[-1]\n",
    "print input_key\n",
    "print output_key\n",
    "input_dict={\"gs:\":'GCSHandler',\n",
    "            \"s3:\":'AWSHandler',\n",
    "            \"local\":'LocalHandler'}"
   ]
  },
  {
   "cell_type": "code",
   "execution_count": 21,
   "metadata": {},
   "outputs": [
    {
     "data": {
      "text/plain": [
       "True"
      ]
     },
     "execution_count": 21,
     "metadata": {},
     "output_type": "execute_result"
    }
   ],
   "source": [
    "bool(pdf_api.__strategy__) "
   ]
  },
  {
   "cell_type": "code",
   "execution_count": 22,
   "metadata": {},
   "outputs": [
    {
     "data": {
      "text/plain": [
       "<HandlerFactory.GCSHandler at 0x7f0c556a0fd0>"
      ]
     },
     "execution_count": 22,
     "metadata": {},
     "output_type": "execute_result"
    }
   ],
   "source": [
    "pdf_api.__strategy__ "
   ]
  },
  {
   "cell_type": "code",
   "execution_count": 3,
   "metadata": {},
   "outputs": [
    {
     "name": "stdout",
     "output_type": "stream",
     "text": [
      "processed_Beacon.8/processed_Beacon.8-page1.jpg\n",
      "processed_Beacon.8.pdf\n"
     ]
    }
   ],
   "source": [
    "path=\"/tmp/tmp3TR5F_/processed_Beacon.8/processed_Beacon.8-page1.jpg\"\n",
    "print path.split(\"/\",3)[-1]\n",
    "print path.split(\"/\")[-2]+\".pdf\"\n"
   ]
  },
  {
   "cell_type": "code",
   "execution_count": null,
   "metadata": {},
   "outputs": [],
   "source": [
    "print 1"
   ]
  },
  {
   "cell_type": "code",
   "execution_count": null,
   "metadata": {},
   "outputs": [],
   "source": [
    "from google.cloud import storage\n",
    "def delete_blob(bucket_name, blob_name):\n",
    "    \"\"\"Deletes a blob from the bucket.\"\"\"\n",
    "    storage_client = storage.Client()\n",
    "    bucket = storage_client.get_bucket(bucket_name)\n",
    "    blob = bucket.blob(blob_name)\n",
    "\n",
    "    blob.delete()\n",
    "    \n",
    "delete_blob(\"sampleeob\",\"Beacon/processed_Beacon\")    "
   ]
  }
 ],
 "metadata": {
  "kernelspec": {
   "display_name": "Python 2",
   "language": "python",
   "name": "python2"
  },
  "language_info": {
   "codemirror_mode": {
    "name": "ipython",
    "version": 2
   },
   "file_extension": ".py",
   "mimetype": "text/x-python",
   "name": "python",
   "nbconvert_exporter": "python",
   "pygments_lexer": "ipython2",
   "version": "2.7.12"
  }
 },
 "nbformat": 4,
 "nbformat_minor": 2
}
